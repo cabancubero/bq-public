{
 "cells": [
  {
   "cell_type": "code",
   "execution_count": null,
   "metadata": {},
   "outputs": [],
   "source": [
    "from google.cloud import bigquery\n",
    "import pandas as pd\n",
    "\n",
    "# Create a client object\n",
    "client = bigquery.Client()\n",
    "\n",
    "# Your SQL query to fetch data from the view\n",
    "query = \"\"\"\n",
    "SELECT *\n",
    "FROM `your_project.your_dataset.your_view_name`\n",
    "WHERE some_condition = 'some_value'\n",
    "LIMIT 1000\n",
    "\"\"\"\n",
    "\n",
    "# Execute the query and load results into a pandas DataFrame\n",
    "df = client.query(query).to_dataframe()\n",
    "\n",
    "# Now you can work with the data in the DataFrame\n",
    "print(df.head())\n"
   ]
  },
  {
   "cell_type": "code",
   "execution_count": null,
   "metadata": {},
   "outputs": [],
   "source": []
  }
 ],
 "metadata": {
  "language_info": {
   "name": "python"
  }
 },
 "nbformat": 4,
 "nbformat_minor": 2
}
